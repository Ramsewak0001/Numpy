{
 "cells": [
  {
   "cell_type": "code",
   "execution_count": null,
   "id": "bfb306d3-65da-472f-af01-387a38c70537",
   "metadata": {},
   "outputs": [],
   "source": [
    "Consider the below code to answer further questions:\n",
    "import numpy as np\n",
    "list_ = [ ‘1’ , ’2’ , ‘3’ , ‘4’ , ‘5’ ]\n",
    "array_list = np.array(object = list_)"
   ]
  },
  {
   "cell_type": "code",
   "execution_count": 1,
   "id": "a8795f20-f248-4463-a1a6-667bb84db198",
   "metadata": {},
   "outputs": [],
   "source": [
    "import numpy as np\n",
    "list_ = [ '1','2','3','4','5' ]\n",
    "array_list = np.array(object = list_)"
   ]
  },
  {
   "cell_type": "code",
   "execution_count": null,
   "id": "a084b5f1-5d69-431d-8490-8579ab95b80c",
   "metadata": {},
   "outputs": [],
   "source": [
    "Q1. Is there any difference in the data type of variables list_ and array_list? If there is then write a code\n",
    "    to print the data types of both the variables."
   ]
  },
  {
   "cell_type": "code",
   "execution_count": null,
   "id": "9edbca73-0899-4124-afa7-18aa91b71ba0",
   "metadata": {},
   "outputs": [],
   "source": [
    "list_ variable will have the data type list, \n",
    "while the array_list variable will have the data type numpy.ndarray indicating a NumPy array."
   ]
  },
  {
   "cell_type": "code",
   "execution_count": 7,
   "id": "42f32578-d39c-40d9-9408-2f16e292fb96",
   "metadata": {},
   "outputs": [
    {
     "data": {
      "text/plain": [
       "list"
      ]
     },
     "execution_count": 7,
     "metadata": {},
     "output_type": "execute_result"
    }
   ],
   "source": [
    "type(list_)"
   ]
  },
  {
   "cell_type": "code",
   "execution_count": 9,
   "id": "fdaa88b9-2311-4e58-904f-2c1c13328f0d",
   "metadata": {},
   "outputs": [
    {
     "data": {
      "text/plain": [
       "numpy.ndarray"
      ]
     },
     "execution_count": 9,
     "metadata": {},
     "output_type": "execute_result"
    }
   ],
   "source": [
    "type(array_list)"
   ]
  },
  {
   "cell_type": "code",
   "execution_count": null,
   "id": "d3f0d442-cc98-4b40-99b9-03b65ea99a61",
   "metadata": {},
   "outputs": [],
   "source": [
    "-----------------------------------------------------------------------------------------------------------------------------"
   ]
  },
  {
   "cell_type": "code",
   "execution_count": null,
   "id": "5a1a77a1-1304-4fd6-92a3-21eb0c1e5d8e",
   "metadata": {},
   "outputs": [],
   "source": [
    "Q2. Write a code to print the data type of each and every element of both the variables list_ and array_list."
   ]
  },
  {
   "cell_type": "code",
   "execution_count": 10,
   "id": "73c80a3a-c51e-4950-8815-8d137e25db14",
   "metadata": {},
   "outputs": [
    {
     "name": "stdout",
     "output_type": "stream",
     "text": [
      "Data type of element of list_ :  \n",
      "<class 'str'>\n",
      "<class 'str'>\n",
      "<class 'str'>\n",
      "<class 'str'>\n",
      "<class 'str'>\n",
      "Data type of element of array_list : \n",
      "<class 'numpy.str_'>\n",
      "<class 'numpy.str_'>\n",
      "<class 'numpy.str_'>\n",
      "<class 'numpy.str_'>\n",
      "<class 'numpy.str_'>\n"
     ]
    }
   ],
   "source": [
    "print(\"Data type of element of list_ :  \")\n",
    "for i in list_:\n",
    "    print(type(i))\n",
    "    \n",
    "print(\"Data type of element of array_list : \")\n",
    "for i in array_list :\n",
    "    print(type(i))"
   ]
  },
  {
   "cell_type": "code",
   "execution_count": null,
   "id": "2f487457-11d4-4de9-a780-653ca8a6598f",
   "metadata": {},
   "outputs": [],
   "source": [
    "-----------------------------------------------------------------------------------------------------------------------------"
   ]
  },
  {
   "cell_type": "code",
   "execution_count": null,
   "id": "1bdff059-d681-4e96-9d18-4fd05e15266a",
   "metadata": {},
   "outputs": [],
   "source": [
    "Q3. Considering the following changes in the variable, array_list:\n",
    "    array_list = np.array(object = list_, dtype = int)\n",
    "    \n",
    "Will there be any difference in the data type of the elements present in both the variables, list_ and\n",
    "arra_list? If so then print the data types of each and every element present in both the variables, list_\n",
    "and arra_list."
   ]
  },
  {
   "cell_type": "code",
   "execution_count": 11,
   "id": "a861a554-0dbd-49d6-b8b3-b1ecafebfacd",
   "metadata": {},
   "outputs": [],
   "source": [
    "array_list = np.array(object = list_, dtype = int)"
   ]
  },
  {
   "cell_type": "code",
   "execution_count": 12,
   "id": "44217cec-237c-47b8-878d-eb6b7c5fae49",
   "metadata": {},
   "outputs": [
    {
     "data": {
      "text/plain": [
       "numpy.ndarray"
      ]
     },
     "execution_count": 12,
     "metadata": {},
     "output_type": "execute_result"
    }
   ],
   "source": [
    "type(array_list)"
   ]
  },
  {
   "cell_type": "code",
   "execution_count": 13,
   "id": "e1ec2451-6ab0-4b18-9b77-d5eb729861f4",
   "metadata": {},
   "outputs": [
    {
     "name": "stdout",
     "output_type": "stream",
     "text": [
      "Data type of element of array_list : \n",
      "<class 'numpy.int64'>\n",
      "<class 'numpy.int64'>\n",
      "<class 'numpy.int64'>\n",
      "<class 'numpy.int64'>\n",
      "<class 'numpy.int64'>\n"
     ]
    }
   ],
   "source": [
    "print(\"Data type of element of array_list : \")\n",
    "for i in array_list :\n",
    "    print(type(i))"
   ]
  },
  {
   "cell_type": "code",
   "execution_count": null,
   "id": "15b7ccfd-ffe2-4bbf-95c5-8af371e8d6e9",
   "metadata": {},
   "outputs": [],
   "source": [
    "Yes, there will be a difference in the data type of the elements present in the variables list_ and array_list after\n",
    "applying the dtype=int parameter in the NumPy array creation."
   ]
  },
  {
   "cell_type": "code",
   "execution_count": null,
   "id": "4a1cba92-33c6-4aa0-8467-27488acf9ad9",
   "metadata": {},
   "outputs": [],
   "source": [
    "-----------------------------------------------------------------------------------------------------------------------------"
   ]
  },
  {
   "cell_type": "code",
   "execution_count": null,
   "id": "e4c98c52-a206-4227-9a29-75189d33380f",
   "metadata": {},
   "outputs": [],
   "source": [
    "Consider the below code to answer further questions:\n",
    "import numpy as np\n",
    "num_list = [ [ 1 , 2 , 3 ] , [ 4 , 5 , 6 ] ]\n",
    "num_array = np.array(object = num_list)"
   ]
  },
  {
   "cell_type": "code",
   "execution_count": 14,
   "id": "e240a539-16d3-4c6a-acaa-68ac60c4b346",
   "metadata": {},
   "outputs": [],
   "source": [
    "import numpy as np\n",
    "num_list = [ [ 1 , 2 , 3 ] , [ 4 , 5 , 6 ] ]\n",
    "num_array = np.array(object = num_list)"
   ]
  },
  {
   "cell_type": "code",
   "execution_count": null,
   "id": "95db108f-cbfb-4dbf-8796-59304132be06",
   "metadata": {},
   "outputs": [],
   "source": [
    "Q4. Write a code to find the following characteristics of variable, num_array:\n",
    "(i) shape\n",
    "(ii) size"
   ]
  },
  {
   "cell_type": "code",
   "execution_count": 15,
   "id": "72a4a5d2-236c-47b6-b3ef-5b47e272fb03",
   "metadata": {},
   "outputs": [
    {
     "data": {
      "text/plain": [
       "array([[1, 2, 3],\n",
       "       [4, 5, 6]])"
      ]
     },
     "execution_count": 15,
     "metadata": {},
     "output_type": "execute_result"
    }
   ],
   "source": [
    "num_array"
   ]
  },
  {
   "cell_type": "code",
   "execution_count": 18,
   "id": "b57d1396-5a1f-453c-a2af-55fb7ce9b20f",
   "metadata": {},
   "outputs": [
    {
     "data": {
      "text/plain": [
       "(2, 3)"
      ]
     },
     "execution_count": 18,
     "metadata": {},
     "output_type": "execute_result"
    }
   ],
   "source": [
    "num_array.shape"
   ]
  },
  {
   "cell_type": "code",
   "execution_count": 22,
   "id": "a42820ee-08cc-465f-9fb3-59317ac3b3fd",
   "metadata": {},
   "outputs": [
    {
     "data": {
      "text/plain": [
       "6"
      ]
     },
     "execution_count": 22,
     "metadata": {},
     "output_type": "execute_result"
    }
   ],
   "source": [
    "num_array.size"
   ]
  },
  {
   "cell_type": "code",
   "execution_count": null,
   "id": "d5389492-3655-47fc-a44d-343f62df0162",
   "metadata": {},
   "outputs": [],
   "source": [
    "-----------------------------------------------------------------------------------------------------------------------------"
   ]
  },
  {
   "cell_type": "code",
   "execution_count": null,
   "id": "798863cb-cd55-4634-b68b-51333442d6f2",
   "metadata": {},
   "outputs": [],
   "source": [
    "Q5. Write a code to create numpy array of 3*3 matrix containing zeros only, using a numpy array creation function.\n",
    "    [Hint: The size of the array will be 9 and the shape will be (3,3).]"
   ]
  },
  {
   "cell_type": "code",
   "execution_count": 23,
   "id": "f857fa30-6800-4e50-913c-84ffcb201d84",
   "metadata": {},
   "outputs": [
    {
     "data": {
      "text/plain": [
       "array([[0., 0., 0.],\n",
       "       [0., 0., 0.],\n",
       "       [0., 0., 0.]])"
      ]
     },
     "execution_count": 23,
     "metadata": {},
     "output_type": "execute_result"
    }
   ],
   "source": [
    "import numpy as np\n",
    "np.zeros((3,3))"
   ]
  },
  {
   "cell_type": "code",
   "execution_count": null,
   "id": "2da93780-9ebd-4f42-8fb7-5f74b8cf97ff",
   "metadata": {},
   "outputs": [],
   "source": [
    "-----------------------------------------------------------------------------------------------------------------------------"
   ]
  },
  {
   "cell_type": "code",
   "execution_count": null,
   "id": "e3b1e40b-44ff-4d22-9a29-a6936ce2ae3a",
   "metadata": {},
   "outputs": [],
   "source": [
    "Q6. Create an identity matrix of shape (5,5) using numpy functions?\n",
    "    [Hint: An identity matrix is a matrix containing 1 diagonally and other elements will be 0.]"
   ]
  },
  {
   "cell_type": "code",
   "execution_count": 25,
   "id": "7214634b-0001-4617-8088-0224b7cb206c",
   "metadata": {},
   "outputs": [
    {
     "data": {
      "text/plain": [
       "array([[1., 0., 0., 0., 0.],\n",
       "       [0., 1., 0., 0., 0.],\n",
       "       [0., 0., 1., 0., 0.],\n",
       "       [0., 0., 0., 1., 0.],\n",
       "       [0., 0., 0., 0., 1.]])"
      ]
     },
     "execution_count": 25,
     "metadata": {},
     "output_type": "execute_result"
    }
   ],
   "source": [
    "np.eye(5,5)"
   ]
  }
 ],
 "metadata": {
  "kernelspec": {
   "display_name": "Python 3 (ipykernel)",
   "language": "python",
   "name": "python3"
  },
  "language_info": {
   "codemirror_mode": {
    "name": "ipython",
    "version": 3
   },
   "file_extension": ".py",
   "mimetype": "text/x-python",
   "name": "python",
   "nbconvert_exporter": "python",
   "pygments_lexer": "ipython3",
   "version": "3.10.8"
  }
 },
 "nbformat": 4,
 "nbformat_minor": 5
}
